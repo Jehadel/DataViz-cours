{
 "cells": [
  {
   "cell_type": "markdown",
   "id": "0ed33ae7-dcbc-465d-9bf8-d8fbbf50acb6",
   "metadata": {},
   "source": [
    "# DataViz et données géospatiales, cartes\n",
    "\n",
    "## Rappel historique\n",
    "\n",
    "![JohnSnow](./Images/JohnSnow.png)\n",
    "\n",
    "Une des premières études où la dataviz a permis de résoudre un problème important impliquait de la cartographie. Si vous voulez en savoir plus, voici les articles Wikipedia [sur cette épidémie de 1854](https://en.wikipedia.org/wiki/1854_Broad_Street_cholera_outbreak), et [sur John Snow](https://fr.wikipedia.org/wiki/John_Snow).\n",
    "\n",
    "\n",
    "\n",
    "Voici quelques articles récents qui reviennent sur ces données historiques :\n",
    "\n",
    "https://blog.wolfram.com/2021/08/03/john-snow-the-birth-of-epidemiology-data-analysis-visualization/\n",
    "\n",
    "https://archive.cdc.gov/#/details?url=https://www.cdc.gov/csels/dsepd/ss1978/lesson1/section2.html\n",
    "\n",
    "Un article sous la forme de « data storytelling » de qualité, démontrant les capacités des outils de cartographie de l’éditeur ESRI : https://storymaps.arcgis.com/stories/9fc482aa122849f8af4008c38991000e\n",
    "\n",
    "Nous allons dans ce cours voir les bases de la mannipulation des données visuospatiales, qui ont un certain nombre de spécificité, et quelques bibliothèques python qui permettent de les manipuler et de réaliser des dataviz sous forme de cartes."
   ]
  },
  {
   "cell_type": "markdown",
   "id": "28ecc90f-f670-44b4-833d-6b6460c28dcc",
   "metadata": {},
   "source": [
    "## Geopandas\n",
    "\n",
    "**Geopandas** ajoute à ```pandas``` une couche capable de traiter l’information spatiale (des *geometries*), et donc de manipuler ces données sous forme de _dataframes_.\n",
    "* elle intègre la bibliothèque ```fiona``` pour charger différents formats de fichiers geospatiaux (.gpkg, .shp, etc.)\n",
    "* elle permet de manipuler tant des fichiers de données vectorielles que des _rasters_ (.tif, .asc, etc.)\n",
    "* elle peut gérer les systèmes de projection _CRS (Coordinates Reference System)_ avec ```pyproj```\n",
    "* elle intègre la bibliothèque ```shapely``` pour traiter des geometries (point, lignes, polygone) et réaliser des opérations sur celles-ci (calculer des longueurs, des intersections, etc.)\n",
    "* grâce à ```leaflet``` elle permet de visualiser rapidement des infos spatiales sur des fonds de cartes (meth»de ```.explore()```)\n"
   ]
  },
  {
   "cell_type": "code",
   "execution_count": null,
   "id": "7d0149a8-649c-40a0-80a2-05a9769c75f6",
   "metadata": {},
   "outputs": [],
   "source": [
    "!pip install geopandas"
   ]
  },
  {
   "cell_type": "code",
   "execution_count": null,
   "id": "61ab77dd-1d0f-453e-9ab2-5c702138adc8",
   "metadata": {},
   "outputs": [],
   "source": [
    "!pip show geopandas"
   ]
  },
  {
   "cell_type": "code",
   "execution_count": null,
   "id": "cac11355-0480-4518-b409-afa261d1937d",
   "metadata": {},
   "outputs": [],
   "source": [
    "import geopandas as gpd\n",
    "import matplotlib.pyplot as plt"
   ]
  },
  {
   "cell_type": "markdown",
   "id": "19e1d33c-ea56-47d6-825d-6b28989d058b",
   "metadata": {},
   "source": [
    "Comme d’autres bibliothèques, avant la version 1 Geopandas embarquait des jeux de données a vocation de démo, ce n’est plus le cas depuis avril 2024 et la version 1.0 :"
   ]
  },
  {
   "cell_type": "code",
   "execution_count": null,
   "id": "c57ffd2c-7519-4e74-be89-91079c98b762",
   "metadata": {},
   "outputs": [],
   "source": [
    "gpd.datasets.available"
   ]
  },
  {
   "cell_type": "markdown",
   "id": "b58a1db1-6159-4a8b-9bef-256878fff882",
   "metadata": {},
   "source": [
    "Les dev de la bibliothèque proposent à la place de télécharger les données cartographiques du site [Natural Earth Data](https://www.naturalearthdata.com/downloads/), qui sont disponibles en 3 niveau de précision : 1:10m (la plus précise), 1:50m et enfin 1:110m. Attention l’archive en 1:10m est nettement plus lourde (>300Mo) que l’archive 1:110m (quelques Mo). \n",
    "\n",
    "Téléchargez ces données pour suivre les exemples du cours\n",
    "\n",
    "La base Natural Earth est constituée de fichiers vectoriels (`.SHP` ou `.geopackage`) ou raster (`.tif`). La différence est essentielle en matière de données géospatiale.\n",
    "\n",
    "### Fichiers vectoriels et rasters\n",
    "\n",
    "#### Objets vectoriels\n",
    "Les fichiers vectoriels sont des fichiers de données qui contiennent nécessairement un champ `geometry`. Ces géométries peuvent être généralement de 3 types :\n",
    "\n",
    "* des points (`Point`, `MultiPoints`)\n",
    "* des lignes (`LineString`, `MultiLineString`, `LinearRing`)\n",
    "* des polygones (`Polygon`, `Multipolygon`)\n",
    "\n",
    "Il y a aussi un objet `GeometryCollection` qui comme son nom l’indique contient plusieurs gémotries de plusieurs types.\n",
    "\n",
    "Ces objets sont définis par un certain nombre de points (coordonnées x et y en 2D ou x, y et z en 3D), et de relations entre ces points (lignes, ou arêtes/côtés = *edges*, et *vertices* pour les sommets) lorsque cela a un sens :\n",
    "\n",
    "![Illustration géométries](./Images/Geometries.png)\n",
    "\n",
    "Les fichiers contenant des données vectorielles peuvent tout à fait être des flatfiles type `.csv` avec une colone géométrie ou `.xyz` pour les seules données vectorielles. Un autre format très populaire est le [GeoJSON (lien wikipédia)](https://fr.wikipedia.org/wiki/GeoJSON) : les objets définis dans un JSON (ou dictionnaire pour python) contiennent un attribut `\"geometry\"` qui contient à son tour deux attribut : `\"type\"` (comme `point`, `linestring`, etc.) et `\"coordinates\"` qui contient évidemment les coorodnnées des points constituant les géométries. Attention : dans certains cas l’ordre des coordonnées peut différer d’un GeoJSON à l’autre (par ex. lat/long vs. long/lat…)\n",
    "\n",
    "#### Fichiers raster\n",
    "Les fichiers raster sont des images bitmaps (constituées de pixels), dont chaque pixel représente une position dans l’espace : une correspondance est établie entre les coordonnées du pixel dans l’image, et les coordonnées de la surface correspondante dans la réalité. En effet, un raster couvre une certaine surface selon une certaine échelle, dont le pixel est une partie. Par exemple l’IGN met à disposition dans sa base [RGE ALTI](https://geoservices.ign.fr/rgealti) des données altimétriques sous format de *dalles* ou *tuiles* (*tiles*) raster : la surface terrestre est découpée selon une grille qui définie des carrés de 1km de côté, chaque dalle peut être occupée par une image de 1000x1000 pixels, 1 pixel couvre donc une surface de 1m2. Ici la grille pour le département du Vaucluse : \n",
    "\n",
    "![Exemple dallage IGN](./Images/Dalles-IGN.png)\n",
    "\n",
    "À chaque pixel d’autres informations numériques sont associées sous forme de *couches*, *bande* ou *canal* (*channel*). De la même manière que dans une image on peut associé à un pixel une valeur de gris, ou 3 couches de couleur, on peut associer des valeurs numériques comme par exemple une altitude dans notre exemple. On peut afficher une telle image :\n",
    "\n",
    "![Exemple Raster altimetrique IGN](./Images/Raster-IGN.png)\n",
    "\n",
    "Comme une image couleur RGB est constituée de 3 couches, on peut avoir plusieurs bandes sur un raster. C’est souvent le cas des imagres satellites qui observent dans plusieurs longueurs d’ondes (souvent infrarouge). Par exemple ici depuis le site [Nasa Worldview](https://worldview.earthdata.nasa.gov/) les écarts à la normale de la température des eaux de surface :\n",
    "\n",
    "![Water temperature abnormality - El Nino - Nasa Worldview](./Images/Nasa-Worldview.png)\n",
    "\n",
    "Mais on peut ajouter tout type d’information numérique que l’on veut à chaque pixel (code du type d’acquisition, grandeur physique, etc.) Cette notion est à rapprocher de celle de *voxel* en 3D (courante en imagerie médicale, etc.)\n",
    "\n",
    "La bibliothèque qui permet de manipuler les rasters à bas niveau est [GDAL](https://pypi.org/project/GDAL/) (attention, en Python l’installation peut demander des manipulations spécifiques). C’est une bibliothèque C++ pour des opérations de bas niveau, nous n’en aurons pas spécialement besoin pour une introduction. De manière générale nous nous focaliserons ici sur les données vectorielles.\n",
    "\n",
    "#### Nuage de points\n",
    "\n",
    "Il existe une dernière catégorie de données que l’on pourrait qualifier de vectorielles car elle contiennent des géométries dont les coordonnées sont définies (points) mais qui méritent un traitement spécifique : les nuages de points en 3D, généralement obtenus soit par des techniques três spécifiques, par exemple photogrammétre (prise de vue d’un objet depuis plusieurs points de vue), ou Lidar (laser infrarouge). Voir par exemple [le projet Lidar HD de l’IGN](https://geoservices.ign.fr/lidarhd)\n",
    "\n",
    "Ces données demandent d’utiliser plutôt des bibliothèques spécialisées comme [open3D](https://www.open3d.org/) pour manipuler des objets 3D ou [laspy](https://laspy.readthedocs.io/en/latest/index.html) pour charger des fichiers d’acquisition Lidar au format `.LAS` ou `.LAZ`. Des bibliothèques plus intégrées existent comme [geemap](https://geemap.org/) (qui peut utiliser open3d en backend, et repose sur [Earth Engine](https://earthengine.google.com/)).\n",
    "\n",
    "#### L’écosystème des SIG\n",
    "\n",
    "Pour la visualisation et le traitement de ce type de données dans les SIG (Systèmes d’Information Géographiques) ou GIS en anglais, deux grands logiciels sont utilisés : [QGIS](https://qgis.org/) (open source) et [ArcGIS](https://arcgis.com/) (propriétaire, de la société ESRI). Il existe d’autres solutions pour le stockage des données en base comme [PostGIS](https://postgis.net/) (dérivé de PostGreSQL), ou des serveurs pour fournir des flux de données WMS (cartes), WFS (features) ou encore WCS (rasters) comme [GeoServer](https://geoserver.org/). Les SIG sont un monde à part entière.\n",
    "\n",
    "#### Quelques sources de données\n",
    "\n",
    "Maintenant que vous disposez d’un panorama sur les données géospatiales pour enrichir votre culture générale, revenons aux données cartographiques 2D et vectorielles les plus courantes.\n",
    "\n",
    "Les sources de données géospatiales peuvent être nombreuses :\n",
    "\n",
    "- des sites open data (gouvernementaux ou privés) : IGN avec sa plateforme [Géoservices](https://geoservices.ign.fr/), [Open Topography](https://portal.opentopography.org/datasets), [Nasa Worldview](https://worldview.earthdata.nasa.gov/), etc.\n",
    "- sur [Kaggle](https://www.kaggle.com/search?q=geospatial+in%3Adatasets) (datasets avec le mot clé geospatial)\n",
    "- la bibliothèque [Geodataset](https://pypi.org/project/geodataset/) propose une API pour charger des datasets complet pour l’entraînement ou la familiarisation au traitement de données géospatiales.\n",
    "\n",
    "Jetons un œil à quelques fichiers téléchargés sur Natural Earth."
   ]
  },
  {
   "cell_type": "code",
   "execution_count": null,
   "id": "9aee446d-71fe-4247-82c0-bd7c25c80906",
   "metadata": {},
   "outputs": [],
   "source": [
    "worldmap_df = gpd.read_file('data/Natural-Earth-Data_110m_cultural/ne_110m_admin_0_countries.shp')"
   ]
  },
  {
   "cell_type": "code",
   "execution_count": null,
   "id": "00aac86e-cf59-437a-a565-fcfcb1133b9b",
   "metadata": {},
   "outputs": [],
   "source": [
    "worldmap_df.head()"
   ]
  },
  {
   "cell_type": "markdown",
   "id": "c8b4c003-5e31-44e6-a635-e6193819975c",
   "metadata": {},
   "source": [
    "### Les systèmes de coordonnées de référence"
   ]
  },
  {
   "cell_type": "code",
   "execution_count": null,
   "id": "ba2f5ee4-a95f-4fdb-9c58-e50d2c272136",
   "metadata": {},
   "outputs": [],
   "source": [
    "worldmap_df.info()"
   ]
  },
  {
   "cell_type": "markdown",
   "id": "8ecde30c-98ee-465e-a64a-bc351e5cdf4a",
   "metadata": {},
   "source": [
    "Une info importante quand on manipule des données géospatiales et notamment des cartes est le _coordinate reference system_ :"
   ]
  },
  {
   "cell_type": "code",
   "execution_count": null,
   "id": "8a019ec0-575f-4990-934f-c67fba7a8ec2",
   "metadata": {},
   "outputs": [],
   "source": [
    "worldmap_df.crs"
   ]
  },
  {
   "cell_type": "markdown",
   "id": "7636f485-2c25-4c1d-9ef3-f6c5fac4330f",
   "metadata": {},
   "source": [
    "Ici WGS 84 est le système de coordonnées en longitude/latitude (type GPS). Les valeurs des coordonnées des points sont des long/lat (« 2D ») et altitude (3D), dans un référenciel sphérique. Or nous représentons généralement ces données sur des cartes en 2D : il faut donc réaliser une projection de la 3D vers la 2D, et c’est là que les difficultés émergent.\n",
    "\n",
    "Selon les systèmes de projection choisi, différentes propriétés géométriques peuvent être altérées ou non (direction/orientations, angles, longueurs, aires…), il faut donc choisir un système de projection dont les effets sur ces caractérsitiques sont compatibles avec notre objectif. Par ailleurs, il faut toujours associer des données dont le CRS est identique.\n",
    "\n",
    "La projection la plus « simple » est la projection cylindrique de [Mercator](https://fr.wikipedia.org/wiki/Projection_de_Mercator#/media/Fichier:Usgs_map_mercator.svg).\n",
    "Pour éliminer au maximum les déformations lorsque l’on se focalise sur une zone relativement localisée (par exemple à l’échelle d’un pays) on a recours à des projections coniques « tangentes » au plus près de la zone d’intérêt. Par exemple en France métropolitaine la projection officielle est la [projection conique conforme de Lambert](https://upload.wikimedia.org/wikipedia/commons/7/7b/Lambert_et_mercator_pour_wikipedia.svg?uselang=fr). Attention donc si vous consultez des données ailleurs dans le monde, et plus particulièrement des données pour la France d’outre-mer (Réunion, Martinique, Guadeloupe… etc.) : il faudra utiliser un CRS ad-hoc.\n",
    "\n",
    "Dans le système Lambert 93, les coordonnées s’expriment en métres, à partir d’un point d’origine situé à Bourges et de coordonnées X = 600 000 mètres et Y = 2 200 000 mètres.\n",
    "\n",
    "Un CRS est défini par un code, un nom, un système de référence, une origine, des unités de mesures… etc.\n",
    "Ils sont catalogué dans le registre EPSG (European Petroleum Survey Group). Ainsi le système GPS (WGS 84) porte le code EPSG:4326 (voir exemple ci-dessus avec nos données). Pour la France métropolitaine (Lambert 93), il s’agit de l’EPSG:2154.\n",
    "\n",
    "### Affichage avec la méthode `.plot()`\n",
    "\n",
    "Cette méthode permet d’afficher les géométries :"
   ]
  },
  {
   "cell_type": "code",
   "execution_count": null,
   "id": "d5f30236-d475-4b4f-b118-42ca282dff7f",
   "metadata": {},
   "outputs": [],
   "source": [
    "worldmap_df.plot();"
   ]
  },
  {
   "cell_type": "markdown",
   "id": "be6baaeb-fa36-4e82-9fd2-5afbcc2a25cd",
   "metadata": {},
   "source": [
    "Essayons avec un autre fichier :"
   ]
  },
  {
   "cell_type": "code",
   "execution_count": null,
   "id": "fc9ffde6-2c9b-49b2-8624-2624bb0dea4e",
   "metadata": {},
   "outputs": [],
   "source": [
    "wmpop_df = gpd.read_file(\\\n",
    "        'data/Natural-Earth-Data_110m_cultural/ne_110m_populated_places.shp')"
   ]
  },
  {
   "cell_type": "code",
   "execution_count": null,
   "id": "5a71fc97-4a01-4f91-88c8-c2e2531d6a15",
   "metadata": {},
   "outputs": [],
   "source": [
    "wmpop_df.head()"
   ]
  },
  {
   "cell_type": "markdown",
   "id": "e7b9c068-b584-4e04-b074-6e3e3197a0ff",
   "metadata": {},
   "source": [
    "Ce fichier contient semble-t-il des informations sur les capitales du monde :"
   ]
  },
  {
   "cell_type": "code",
   "execution_count": null,
   "id": "c03f86e2-6c9a-4c3c-8143-6446067afc05",
   "metadata": {},
   "outputs": [],
   "source": [
    "for c in wmpop_df:\n",
    "    print(c) # boucle pour afficher la totalité des colonnes"
   ]
  },
  {
   "cell_type": "markdown",
   "id": "a194b067-8451-469e-96e8-466cfcffa871",
   "metadata": {},
   "source": [
    "Affichons les géométries :"
   ]
  },
  {
   "cell_type": "code",
   "execution_count": null,
   "id": "76bdb2cb-83eb-42fe-9f1b-778dd7d8ae50",
   "metadata": {},
   "outputs": [],
   "source": [
    "wmpop_df.plot();"
   ]
  },
  {
   "cell_type": "markdown",
   "id": "beca28c9-2b76-45ff-ba50-b99ffa1723eb",
   "metadata": {},
   "source": [
    "On peut afficher des données (ici la colonne qui donne l’estimation de la population en 2025) :"
   ]
  },
  {
   "cell_type": "code",
   "execution_count": null,
   "id": "1cc42d2d-2793-4115-a3dc-03098faee5bd",
   "metadata": {},
   "outputs": [],
   "source": [
    "wmpop_df.plot('POP2025', marker='v');"
   ]
  },
  {
   "cell_type": "markdown",
   "id": "b278e964-6c9f-406a-a523-871da859dca5",
   "metadata": {},
   "source": [
    "Geopandas dispose d’une méthode `.explore()` qui ajoute un fond de carte et de l’interaction (si vous avez déjà matplotlib installé, installez aussi folium - que nous verrons plus en détail ci-dessous - et mapclassify) :"
   ]
  },
  {
   "cell_type": "code",
   "execution_count": null,
   "id": "b123d92a-884f-4efb-859a-d01fca9d6fff",
   "metadata": {},
   "outputs": [],
   "source": [
    "# !pip install matplotlib folium mapclassify\n",
    "\n",
    "wmpop_df.explore()"
   ]
  },
  {
   "cell_type": "markdown",
   "id": "cef003d5-029e-4a65-93d9-dd955a4a0bb9",
   "metadata": {},
   "source": [
    "Cette méthode repose sur Leaflet, une bibliothèque javascript. Il est possible que pour utiliser ̀`leaflet` Jupyter vous demande « Make this Notebook Trusted to load map:File -> Trust Notebook ». Dans Jupyter Lab, il faut faire \n",
    "`View` -> `Activate Command Palette`\n",
    "et dans le champ de recherche taper `trust` vous pourrez choisir Trust Notebook, et confirmer.\n",
    "\n",
    "On peut aussi superposer 2 tracés à l’aide de matplotlib : "
   ]
  },
  {
   "cell_type": "code",
   "execution_count": null,
   "id": "66360f48-a145-4d37-9583-0d7aeb34299a",
   "metadata": {},
   "outputs": [],
   "source": [
    "fig, ax = plt.subplots()\n",
    "\n",
    "worldmap_df.plot(ax=ax, color='lightgray')\n",
    "wmpop_df.plot(ax=ax, marker='v', markersize=3)\n",
    "\n",
    "plt.title('Villes du monde')\n",
    "plt.show()"
   ]
  },
  {
   "cell_type": "markdown",
   "id": "deaadfc7-7cb3-46f4-9c08-4380d172a97e",
   "metadata": {},
   "source": [
    "Peut-on isoler une carte de l’Afrique ?\n",
    "Regardons déjà la colonne « continent » :"
   ]
  },
  {
   "cell_type": "code",
   "execution_count": null,
   "id": "5ebd069d-a163-47e2-9ebc-ca0df7fd095d",
   "metadata": {},
   "outputs": [],
   "source": [
    "worldmap_df.CONTINENT.unique()"
   ]
  },
  {
   "cell_type": "code",
   "execution_count": null,
   "id": "22f7fc26-c329-4ecf-a890-1a68d8699080",
   "metadata": {},
   "outputs": [],
   "source": [
    "afriquemap_df = worldmap_df[worldmap_df['CONTINENT']=='Africa'].copy()\n",
    "afriquemap_df.plot();"
   ]
  },
  {
   "cell_type": "markdown",
   "id": "3740aa79-c7cc-457f-9fa9-e3191d51ccbb",
   "metadata": {},
   "source": [
    "Calculons les coordonnées du centre de chaque pays :"
   ]
  },
  {
   "cell_type": "code",
   "execution_count": null,
   "id": "81aeda93-7d82-4987-babd-b5235e7a6fd3",
   "metadata": {},
   "outputs": [],
   "source": [
    "afriquemap_df['CenterX'] = afriquemap_df['geometry'].map(lambda c: c.centroid.x)\n",
    "afriquemap_df['CenterY'] = afriquemap_df['geometry'].map(lambda c: c.centroid.y)"
   ]
  },
  {
   "cell_type": "markdown",
   "id": "37cb0402-6bb5-49c3-ae8a-6cbd58a68941",
   "metadata": {},
   "source": [
    "Affichons maintenant la carte avec le code iso de chaque pays aux centres que nous venons de calculer :"
   ]
  },
  {
   "cell_type": "code",
   "execution_count": null,
   "id": "f2904f2c-a68f-4967-97f8-3747544ffb85",
   "metadata": {},
   "outputs": [],
   "source": [
    "fig, ax = plt.subplots()\n",
    "afriquemap_df.plot(ax=ax, color='lightgray', edgecolor='white')\n",
    "\n",
    "for idx, row in afriquemap_df.iterrows():\n",
    "    ax.text(row[\"CenterX\"], \n",
    "            row[\"CenterY\"],\n",
    "            row[\"ISO_A3\"], \n",
    "            ha=\"center\", \n",
    "            va=\"center\", \n",
    "            size=8)\n",
    "\n",
    "plt.title('Codes pays d’Afrique')\n",
    "plt.show()"
   ]
  },
  {
   "cell_type": "markdown",
   "id": "1ef7830d-9cbe-409f-ac39-93ca8fd3175b",
   "metadata": {},
   "source": [
    "Affichons la population estimée pour chaque pays, directement depuis la méthode `.plot()` du dataframe :"
   ]
  },
  {
   "cell_type": "code",
   "execution_count": null,
   "id": "47137a9a-69e8-4b51-a05d-5551200d9be6",
   "metadata": {},
   "outputs": [],
   "source": [
    "afriquemap_df.plot(column = \"POP_EST\",\n",
    "                   cmap='RdBu',\n",
    "                   legend=True,\n",
    "                   edgecolor='black', \n",
    "                   label='Population estimate per state');"
   ]
  },
  {
   "cell_type": "markdown",
   "id": "9fc4dd2d-a17b-4528-8577-77a591fcdb7f",
   "metadata": {},
   "source": [
    "### Exercice\n",
    "\n",
    "Reproduisez cet exemple dans d’autres régions du monde : explorez les données des fichiers utilisés."
   ]
  },
  {
   "cell_type": "code",
   "execution_count": null,
   "id": "09922596-b786-4896-abcf-c7df49f2c009",
   "metadata": {},
   "outputs": [],
   "source": [
    "# votre code ici\n",
    "\n"
   ]
  },
  {
   "cell_type": "markdown",
   "id": "d116e7ea-828a-4df3-9af5-9d69dcfddcb7",
   "metadata": {},
   "source": [
    "## Cartes choroplèthes\n",
    "\n",
    "Les cartes telles que nous avons produites, des « carte[s] thématique[s] où les régions sont colorées ou remplies d'un motif qui montre une mesure statistique » sont des cartes dites choroplèthes (définition [Wikipédia](https://fr.wikipedia.org/wiki/Carte_choropl%C3%A8the)).\n",
    "\n",
    "Ce sont des cartes très utilisées en dataviz, de nombreux outils permettent de les produire, avec plus ou moins d’interactivité : matplotlib (qu’on peut enrichir de surcouches come [cartopy](https://scitools.org.uk/cartopy/docs/latest/), etc.), [folium](https://python-visualization.github.io/folium/latest/) basée sur [Leaflet.js](https://leafletjs.com/), [plotly](https://plotly.com/python/), etc.\n",
    "\n",
    "### Cartopy\n",
    "\n",
    "C’est une surcouche de matplotlib qui peut être utiliser pour manipuler des projections, etc. Son module `feature` contient des données du projet Natural Earth, ce qui permet de les importer sans télécharger nous-même les fichiers du projet à chaque fois. En fait cartopy va les télécharger pour nous, il enverra un warning à chaque fois pour indiquer que quelque chose est téléchargé. On peut inhiber ces warnings avec `warnings.filterwarnings('ignore')` si vous le désirez.\n",
    "\n",
    "#### Projections\n",
    "\n",
    "Un exemple qui vous permet de comparer les différentes projections que nous avons évoqués dans la sections précédente, car Cartopy a été pensée pour être construite à l’aide de pyproj autour de ces système de projection (c’est avant tout un outil pédagogique). **ATTENTION** il y a une subtile différence par exemple avec un CRS comme WGS-84 qui n’est précisément pas un système de projection (PRS), mais un système de coordonnées (CRS)."
   ]
  },
  {
   "cell_type": "code",
   "execution_count": null,
   "id": "2f4989ee-0d9f-497b-b39b-4ea0ccfee21a",
   "metadata": {},
   "outputs": [],
   "source": [
    "from cartopy import crs, feature\n",
    "\n",
    "fig = plt.figure(figsize=(11, 8.5))\n",
    "ax = plt.axes(projection=crs.PlateCarree(central_longitude=0))\n",
    "ax.set_title(\"Projection Plate Carrée\")\n",
    "# Note : sur une projection plate carrée les points sont écartées du même nombre de degrés\n",
    "ax.coastlines()\n",
    "ax.add_feature(feature.BORDERS, linewidth=0.5, edgecolor='blue');"
   ]
  },
  {
   "cell_type": "markdown",
   "id": "ffbbe703-7a22-4f62-a826-9699a32bb7a8",
   "metadata": {},
   "source": [
    "Montrons la même carte avec une autre projection, la projection de Mollweide ou *homolographique*, très utilisée pour les planisphères. C’est une projection pseudo-cylindrique qui conserve les aires (mais pas les angles)"
   ]
  },
  {
   "cell_type": "code",
   "execution_count": null,
   "id": "7e16aa75-fca3-46cd-a6c6-e0b655c47085",
   "metadata": {},
   "outputs": [],
   "source": [
    "fig = plt.figure(figsize=(11, 8.5))\n",
    "ax = plt.axes(projection=crs.Mollweide(central_longitude=0))\n",
    "ax.set_title(\"Projection de Mollweide\")\n",
    "ax.coastlines()\n",
    "ax.add_feature(feature.BORDERS, linewidth=0.5, edgecolor='blue');"
   ]
  },
  {
   "cell_type": "markdown",
   "id": "6a73faf4-5794-49b8-8b09-3d33bf5f6002",
   "metadata": {},
   "source": [
    "On peut aussi ajouter une image de fond avec la méthode `ax.stock_img()`"
   ]
  },
  {
   "cell_type": "code",
   "execution_count": null,
   "id": "a05c4dad-9185-4dd6-a5cb-2409baa58166",
   "metadata": {},
   "outputs": [],
   "source": [
    "fig = plt.figure(figsize=(11, 8.5))\n",
    "ax = plt.axes(projection=crs.Mollweide(central_longitude=0))\n",
    "ax.set_title(\"Projection de Mollweide\")\n",
    "ax.coastlines()\n",
    "ax.add_feature(feature.BORDERS, linewidth=0.5, edgecolor='red')\n",
    "ax.stock_img();"
   ]
  },
  {
   "cell_type": "markdown",
   "id": "8424f82d-8e4f-41f8-aeda-0240b84e9843",
   "metadata": {},
   "source": [
    "On peut adopter des point de vue t"
   ]
  },
  {
   "cell_type": "code",
   "execution_count": null,
   "id": "796d43b8-95d8-4fca-aa4e-475d4baa1959",
   "metadata": {},
   "outputs": [],
   "source": [
    "fig = plt.figure(figsize=(8,8))\n",
    "\n",
    "projection=crs.NearsidePerspective(central_longitude=0,\n",
    "                                    central_latitude=45,\n",
    "                                    satellite_height=2500000)\n",
    "ax = plt.axes(projection=projection)\n",
    "ax.set_title(\"Vue de l’espace\")\n",
    "ax.coastlines(resolution='50m')\n",
    "ax.add_feature(feature.BORDERS, linewidth=0.5, edgecolor='red')\n",
    "ax.stock_img()\n",
    "plt.show()"
   ]
  },
  {
   "cell_type": "markdown",
   "id": "fe3f7276-ed62-44d1-a67a-2011c93a3131",
   "metadata": {},
   "source": [
    "#### Zoom sur une région\n",
    "\n",
    "On n’a pas toujours besoin d’afficher un panisphère au complet. Pour se focaliser sur une zone nous allons utiliser la méthode `.set_extent()`. Elle prend comme argument les coordonnées des 4 coins de la « fenêtre » qu’on va afficher, dans un CRS donné bien sûr. On peut très bien utiliser une projection différente pour définir `.set_extent()` et pour représenter les données géographiques.\n",
    "\n",
    "Dans l’exemple suivant on va représenter les données géographiques avec une projection stéréographique (projection conforme – c.-à-d. qui conserve les angles – obtenue en projetant les points de la sphère terrestre sur un plan tangeant en un point défini). Et nous allons définir la « fenêtre » par des longitudes et latitudes limites en est et en ouest, dans une projection plate carrée.\n",
    "\n",
    "Nous allons : \n",
    "* d’abord définir ces limites (dans les 4 directions)\n",
    "* déterminer le centre de la fenêtre où nous centrerons aussi la projection stéréographique\n",
    "* définir une résolution pour les données Natural Earth\n",
    "* déclarer notre figure\n",
    "* utiliser la méthode `.gridlines` pour placer des repères (méridiens et parallèles)\n",
    "* utiliser la méthode `.set_extent()` pour définir la « fenêtre »\n",
    "* et rajouter différents `feature` que nous n’avons pas présentés, ainsi que la manière de les mettre en forme. Attention de fixer la résolution de ces features à égalité avec la résolution définie pour la figure, histoire que les coastlines correspondent (sinon ça « bave », testez pour voir !"
   ]
  },
  {
   "cell_type": "code",
   "execution_count": null,
   "id": "78d075c4-e2fa-41af-9bcc-ea5c62079421",
   "metadata": {},
   "outputs": [],
   "source": [
    "# définissons quelques constantes / paramètres :\n",
    "\n",
    "projPC = crs.PlateCarree()\n",
    "lonW = -10\n",
    "lonE = 50\n",
    "latS = 30\n",
    "latN = 75\n",
    "cLat = (latN + latS) / 2\n",
    "cLon = (lonW + lonE) / 2\n",
    "projStr = crs.Stereographic(central_longitude=cLon, central_latitude=cLat)\n",
    "res = '50m'\n",
    "\n",
    "# traçons notre figure avec ces paramètres :\n",
    "\n",
    "fig = plt.figure(figsize=(11, 8.5))\n",
    "ax = plt.axes(projection=projStr)\n",
    "ax.set_title('Projection stéréographique')\n",
    "\n",
    "gl = ax.gridlines(\n",
    "    draw_labels=True, \n",
    "    linewidth=2, \n",
    "    color='gray', \n",
    "    alpha=0.5, \n",
    "    linestyle='--'\n",
    ")\n",
    "\n",
    "ax.set_extent([lonW, lonE, latS, latN], crs=projPC)\n",
    "\n",
    "ax.coastlines(resolution=res, color='black')\n",
    "ax.set_facecolor(feature.COLORS['water']) # on colore la mer\n",
    "ax.add_feature(feature.LAND.with_scale(res)) # on colore la terre\n",
    "ax.add_feature(feature.BORDERS.with_scale(res), \n",
    "                                linewidth=0.75, \n",
    "                                edgecolor='red', \n",
    "                                linestyle='--')\n",
    "ax.add_feature(feature.LAKES.with_scale(res), alpha=0.8)\n",
    "ax.add_feature(feature.RIVERS.with_scale(res), \n",
    "                                alpha=0.8, \n",
    "                                linewidth=0.5, \n",
    "                                edgecolor='blue');"
   ]
  },
  {
   "cell_type": "markdown",
   "id": "484d5220-9371-4fe7-bd0e-06d5dc7aae29",
   "metadata": {},
   "source": [
    "#### Exercice\n",
    "\n",
    "Explorez les différents paramètres vu ci-dessus pour bien comprendre leurs effets (notamment la résolution, utilisez des résolutions différntes, etc.)."
   ]
  },
  {
   "cell_type": "code",
   "execution_count": null,
   "id": "c8c80415-ca14-4279-b628-e9d01de67d27",
   "metadata": {},
   "outputs": [],
   "source": [
    "# Votre code ici\n"
   ]
  },
  {
   "cell_type": "markdown",
   "id": "24de56c4-3782-4c31-8977-6be04d99cee3",
   "metadata": {},
   "source": [
    "#### Ajoutez des données\n",
    "\n",
    "Notre objectif est d’ajouter des données sur les fonds de carte que nous avons créé. Nous allons pour cela la méthode `.add_geometries()` où les données que nous désirons affichées seront passé à l’arguement `array`. Le reste (notamment la barre de couleur pour la légende) est du matplotlib classique.\n",
    "\n",
    "Mais il faut auparavant s’assurer que le `.crs` du geodataframe est bien dans un système de projection. Nous allons le redéfinir avec `crs.PlateCarree()`\n"
   ]
  },
  {
   "cell_type": "code",
   "execution_count": null,
   "id": "db817db6-688b-4b6d-9b8f-6a7481920e22",
   "metadata": {},
   "outputs": [],
   "source": [
    "afriquemap_df.crs"
   ]
  },
  {
   "cell_type": "code",
   "execution_count": null,
   "id": "dd4eefbf-dc49-4133-ab51-17bf06494317",
   "metadata": {},
   "outputs": [],
   "source": [
    "afriquemap_df = afriquemap_df.to_crs(crs.PlateCarree())\n",
    "afriquemap_df.crs"
   ]
  },
  {
   "cell_type": "code",
   "execution_count": null,
   "id": "c60c600b-527f-475e-a846-b94b0aa771ef",
   "metadata": {},
   "outputs": [],
   "source": [
    "import matplotlib.colors as mcolors\n",
    "\n",
    "projPC = crs.PlateCarree()\n",
    "lonW = -20\n",
    "lonE = 60\n",
    "latS = -40\n",
    "latN = 40\n",
    "cLat = (latN + latS) / 2\n",
    "cLon = (lonW + lonE) / 2\n",
    "projStr = crs.Stereographic(central_longitude=cLon, central_latitude=cLat)\n",
    "res = '50m'\n",
    "\n",
    "\n",
    "fig = plt.figure(figsize=(8, 6.5))\n",
    "ax = plt.axes(projection=projStr)\n",
    "ax.set_title('Population des pays d’Afrique')\n",
    "\n",
    "gl = ax.gridlines(\n",
    "    draw_labels=True, \n",
    "    linewidth=2, \n",
    "    color='gray', \n",
    "    alpha=0.5, \n",
    "    linestyle='--'\n",
    ")\n",
    "\n",
    "ax.set_extent([lonW, lonE, latS, latN], crs=projPC)\n",
    "\n",
    "ax.coastlines(resolution=res, color='black')\n",
    "ax.set_facecolor(feature.COLORS['water']) # on colore la mer\n",
    "ax.add_feature(feature.LAND.with_scale(res)) # on colore la terre\n",
    "ax.add_feature(feature.BORDERS.with_scale(res), \n",
    "                                linewidth=0.75, \n",
    "                                edgecolor='red', \n",
    "                                linestyle='--')\n",
    "ax.add_feature(feature.LAKES.with_scale(res), alpha=0.8)\n",
    "ax.add_feature(feature.RIVERS.with_scale(res), \n",
    "                               alpha=0.8, \n",
    "                               linewidth=0.5, \n",
    "                               edgecolor='blue')\n",
    "\n",
    "art = ax.add_geometries(afriquemap_df.geometry, \n",
    "                        crs=afriquemap_df.crs,\n",
    "                        array=afriquemap_df.POP_EST,\n",
    "                        edgecolor='black',\n",
    "                        cmap='YlGnBu',\n",
    "                        norm=mcolors.LogNorm(vmin=1e6))\n",
    "cbar = fig.colorbar(art, orientation='vertical', extend='min')\n",
    "cbar.set_label('Number of people')"
   ]
  },
  {
   "cell_type": "markdown",
   "id": "2e6b80bd-17f4-4bb7-ba54-0719f3e02466",
   "metadata": {},
   "source": [
    "Pour aller plus loin, et si vous rencontrez des problèmes d’import des données (format de fichier, etc.), n’hésitez pas à regarder la documentation de cartopy sur les entrées/sorties (modules cartopy.io, et notamment cartopy.io.shapereader).\n",
    "\n",
    "### Folium\n",
    "\n",
    "`pip install folium`\n",
    "\n",
    "Folium est une bibliothèque qui peut apporter beaucoup d’interaction, basée sur la bibliothèque javascrip Leaflet (rappel : il inverse les lat/long en long/lat).\n",
    "\n",
    "Folium permet très rapidement d’avoir un fond de carte, connecté avec un diffuseur de flux comme Open Street Map (mais aussi CartoDB, Stamen, Mapbox…): "
   ]
  },
  {
   "cell_type": "code",
   "execution_count": null,
   "id": "520b00cc-9dfc-448e-ae5b-1125fe76fa7a",
   "metadata": {},
   "outputs": [],
   "source": [
    "import folium"
   ]
  },
  {
   "cell_type": "code",
   "execution_count": null,
   "id": "06d000da-80f9-4933-a47b-692acdfd0aef",
   "metadata": {},
   "outputs": [],
   "source": [
    "africa_map = folium.Map(location=[afriquemap_df.centroid.y.mean(), \n",
    "                                    afriquemap_df.centroid.x.mean()], \n",
    "                                    zoom_start=3, \n",
    "                                    tiles='openstreetmap')\n",
    "africa_map"
   ]
  },
  {
   "cell_type": "markdown",
   "id": "e8baa000-e007-43f7-9fb6-5dcc44f636a4",
   "metadata": {},
   "source": [
    "Cette carte de base, vide, peut se voir ajouter des éléments avec la méthode `.add_to()`.\n",
    "\n",
    "Par exemple, on aurait très bien pu écrire (on en profite pour tester un autre diffuseur de fond de carte) :"
   ]
  },
  {
   "cell_type": "code",
   "execution_count": null,
   "id": "d7c1726d-ef9a-411f-b842-95c13a00a7f2",
   "metadata": {},
   "outputs": [],
   "source": [
    "africa_map = folium.Map(location=[afriquemap_df.centroid.y.mean(), \n",
    "                                    afriquemap_df.centroid.x.mean()], \n",
    "                                    zoom_start=3, \n",
    "                                    tiles=None)\n",
    "folium.TileLayer('CartoDB positron',name=\"Light Map\",control=False).add_to(africa_map)\n",
    "africa_map"
   ]
  },
  {
   "cell_type": "markdown",
   "id": "b2cf15f4-336e-4e01-b745-86b5869546c1",
   "metadata": {},
   "source": [
    "Folium dispose par ailleurs d’une fonction `folium.Choropleth()` pour créer très facilement des carte choroplèthes. Cette fonction prend 3 arguments :\n",
    "* `geo_data` : l’objet qui contient les géométries (a priori un fichier GeoJSON, mais on peut passer un geodataframe qui sera automatiquement converti en GeoJSON par Folium)\n",
    "* `data` : le dataframe qui contient les données à afficher\n",
    "* `columns` : les (2) colonnes qui vont servir à créer la chloroplèthe. Une colonne contient les entités géographiques (pays, régions, villes…) auxquelles se rapportent les mesures (métriques) que l’on doit représenter (la deuxième colonne)\n",
    "* `key_on` : la clé par laquelle géométrie et entités vont être mises en correspondance pour créer la carte\n",
    "\n",
    "On voit que cette fonction n’a pas été prévue dans le cas où on a un seul geodataframe qui contient toutes les données (géométries, entitée et données à afficher). En fait le problème vient du paramètre `key_on` qui hérite de contraintes du Leaflet (javascript), il  va falloir l’écrire sur ce format : `feature.properties.<nom_de_la_colonne_des_entités>`, ici cela deonnera donc `feature.properties.ISO_A3` :\n"
   ]
  },
  {
   "cell_type": "code",
   "execution_count": null,
   "id": "3592e211-b42f-4ef5-9721-18670dec096c",
   "metadata": {},
   "outputs": [],
   "source": [
    "scale = (afriquemap_df['POP_EST'].quantile((0,0.1,0.75,0.9,0.98,1))).tolist()\n",
    "folium.Choropleth(geo_data=afriquemap_df,\n",
    "                 name='Population par pays en Afrique',\n",
    "                 data=afriquemap_df,\n",
    "                 columns=['ISO_A3','POP_EST'],\n",
    "                 key_on=\"feature.properties.ISO_A3\",\n",
    "                 threshold_scale=scale,\n",
    "                 fill_color='YlGnBu',\n",
    "                 fill_opacity=1,\n",
    "                 line_opacity=0.2,\n",
    "                 legend_name='Population',\n",
    "                 smooth_factor=0\n",
    "                ).add_to(africa_map)\n",
    "\n",
    "africa_map"
   ]
  },
  {
   "cell_type": "markdown",
   "id": "be1cac3c-fc1d-4e3a-9ede-9d5582f213b9",
   "metadata": {},
   "source": [
    "L’intérêt de folium est qu’il pousse l’interactivité jusqu’à pouvoir ajouter des éléments lorsque l’on survole la carte, ajouter un panneau de contrôle…\n",
    "\n",
    "#### Information en survolant la carte\n",
    "\n",
    "Une possibilité três intéressante lorsque l’on rajoute de l’interactivité à une dataviz est de pouvoir disposer d’infobulles qui donnent les valeurs précises des métriques dont on dispose quand on survole un élément ou objet. Ici on a une représentation en couleur de la population de chaque pays, en survolant les pays on aimerait bien disposer d’information plus détaillées, au moins l’indentifiant du pays et la valeur exacte de sa population.\n",
    "\n",
    "On peut rajouter un tel objet (attention à la syntaxe avec des bouts de javascript/HTML/CSS dedans)"
   ]
  },
  {
   "cell_type": "code",
   "execution_count": null,
   "id": "54c15c33-d8e2-4836-ba7b-54a12b8c29fb",
   "metadata": {},
   "outputs": [],
   "source": [
    "folium.features.GeoJson(\n",
    "                    data=afriquemap_df,\n",
    "                    name='Population par pays en Afrique',\n",
    "                    smooth_factor=2,\n",
    "                    style_function=lambda x: {'color':'transparent','fillColor':'transparent'},\n",
    "                    tooltip=folium.features.GeoJsonTooltip(\n",
    "                        fields=['ISO_A3',\n",
    "                                'POP_EST'\n",
    "                               ],\n",
    "                        aliases=[\"Code pays:\",\n",
    "                                 \"Population estimée:\"\n",
    "                                ], \n",
    "                        localize=True,\n",
    "                        sticky=False,\n",
    "                        labels=True,\n",
    "                        style=\"\"\"\n",
    "                            background-color: #F0EFEF;\n",
    "                            box-shadow: 3px;\n",
    "                        \"\"\",\n",
    "                        max_width=800,),\n",
    "                            highlight_function=lambda x: {'weight':3,'fillColor':'grey'},\n",
    "                        ).add_to(africa_map) \n",
    "\n",
    "africa_map"
   ]
  },
  {
   "cell_type": "markdown",
   "id": "759ad2dc-1340-4250-84a1-63cefe03090f",
   "metadata": {},
   "source": [
    "Exercice : rajouter des champs aux infobulles comme le nom complet du pays, ou d’autres éléments du dataframe qui vous semblent pertinents. Jouez avec les paramètres et liser la doc pour comprendre à quoi ils servent."
   ]
  },
  {
   "cell_type": "code",
   "execution_count": null,
   "id": "5fcc58e6-fdb5-44c7-8a45-277a22cafc78",
   "metadata": {},
   "outputs": [],
   "source": [
    "# votre code ici\n"
   ]
  },
  {
   "cell_type": "markdown",
   "id": "fa2e9dfd-0807-403c-acc0-23a1b4a56425",
   "metadata": {},
   "source": [
    "#### Panneau de contrôle"
   ]
  },
  {
   "cell_type": "markdown",
   "id": "7e29e65e-8d11-4d33-9649-7744cef0353d",
   "metadata": {},
   "source": [
    "Folium nous permet aussi de rajouter des panneaux de contrôle, etc. mais cela dépasse le cadre de ce cours.\n",
    "\n",
    "On peut avoir un premier aperçu ici :"
   ]
  },
  {
   "cell_type": "code",
   "execution_count": null,
   "id": "ce718694-b3d9-47d1-a60b-3f0b01378621",
   "metadata": {
    "scrolled": true
   },
   "outputs": [],
   "source": [
    "folium.LayerControl().add_to(africa_map)\n",
    "africa_map"
   ]
  },
  {
   "cell_type": "markdown",
   "id": "70afb41f-04b8-49d8-8be1-ebbf8e2c6f40",
   "metadata": {},
   "source": [
    "Enfin on peut aussi sauvegarder notre carte au format html : "
   ]
  },
  {
   "cell_type": "code",
   "execution_count": null,
   "id": "295e467d-650f-41af-bc26-edc92cc8fd6e",
   "metadata": {},
   "outputs": [],
   "source": [
    "africa_map.save(\"africa_pop.html\") "
   ]
  },
  {
   "cell_type": "markdown",
   "id": "6d5a262f-9ad6-40c2-a538-e03386c8d6f2",
   "metadata": {},
   "source": [
    "#### Exercice\n",
    "\n",
    "Créer une carte « PIB ».\n",
    "\n",
    "Bonus : à l’aide de `.TileLayer()` (voir la doc) superposer les cartes PIB et Population, et autoriser la sélection de l’affichage avec un panneau de contrôle."
   ]
  },
  {
   "cell_type": "markdown",
   "id": "82fdfa30-dd66-428e-beff-468dad1023b6",
   "metadata": {},
   "source": [
    "### Plotly\n",
    "\n",
    "Plotly permet aussi de créer des cartes choroplèthes très simplement.\n",
    "Voir le tutoriel directement dans la doc : https://plotly.com/python/choropleth-maps/\n",
    "\n",
    "Exercice : recréez les cartes choroplètes que nous avons réalisées ci-dessus à l’aide de Plotly :"
   ]
  },
  {
   "cell_type": "code",
   "execution_count": null,
   "id": "49daf844-8bad-4964-8a0c-7fcc1c19b959",
   "metadata": {},
   "outputs": [],
   "source": [
    "\n",
    "# votre code ici\n",
    "\n",
    "\n"
   ]
  },
  {
   "cell_type": "markdown",
   "id": "ba81ec04-8fe8-4055-ba6e-def863c80aef",
   "metadata": {},
   "source": [
    "## Exercice"
   ]
  },
  {
   "cell_type": "markdown",
   "id": "511e6b6b-0092-4bf5-8759-f733662b2ef6",
   "metadata": {},
   "source": [
    "Plus compliqué : aggrégeons des données de sources différentes ! Essayez dans votre projet si elles se prêtent à la cartographie, sinon cherchez ces données dans les sources indiquées.\n",
    "\n",
    "1. Trouver des données chiffrées avec info geographique (pays, villes…). Attention, ne pas prendre des données déjà agrégées par pays, régions, etc. c’est le but de l’exercice ;)\n",
    "2. Merger/groupby ces données pour calculer des scores (moyennes, décompte, pourcentage, ce que vous voulez !) par entitées géographiques, par exemple pays, régions, arrondissements, en fonction de la carte dont vous disposez (il faudra sûrement recoder / renommer des colonnes de réf. pays/région, etc pour pouvoir merger sur un df geospatial)\n",
    "3. Afficher une carte qui associe un code couleur à chaque valeur du score (palette, « température »)"
   ]
  }
 ],
 "metadata": {
  "kernelspec": {
   "display_name": "Python 3 (ipykernel)",
   "language": "python",
   "name": "python3"
  },
  "language_info": {
   "codemirror_mode": {
    "name": "ipython",
    "version": 3
   },
   "file_extension": ".py",
   "mimetype": "text/x-python",
   "name": "python",
   "nbconvert_exporter": "python",
   "pygments_lexer": "ipython3",
   "version": "3.11.2"
  }
 },
 "nbformat": 4,
 "nbformat_minor": 5
}
